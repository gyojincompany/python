{
 "cells": [
  {
   "cell_type": "code",
   "execution_count": 42,
   "metadata": {},
   "outputs": [
    {
     "name": "stdout",
     "output_type": "stream",
     "text": [
      "<html>\n",
      " <h1 id=\"title\">\n",
      "  네이버\n",
      " </h1>\n",
      " <div class=\"top\">\n",
      "  <ul class=\"menu\">\n",
      "   <li>\n",
      "    <a class=\"login\" href=\"https://nid.naver.com/nidlogin.login?mode=form&amp;url=https%3A%2F%2Fwww.naver.com\">\n",
      "     로그인\n",
      "    </a>\n",
      "   </li>\n",
      "  </ul>\n",
      "  <ul class=\"section\">\n",
      "   <li>\n",
      "    <a href=\"https://section.cafe.naver.com/\">\n",
      "     네이버 카페\n",
      "    </a>\n",
      "   </li>\n",
      "   <li>\n",
      "    <a href=\"https://section.blog.naver.com/BlogHome.naver?directoryNo=0¤tPage=1&amp;groupId=0\">\n",
      "     네이버 블로그\n",
      "    </a>\n",
      "   </li>\n",
      "  </ul>\n",
      " </div>\n",
      "</html>\n",
      "\n"
     ]
    }
   ],
   "source": [
    "from bs4 import BeautifulSoup\n",
    "\n",
    "html = open('test.html', \"r\")\n",
    "\n",
    "soup = BeautifulSoup(html, 'html.parser')\n",
    "\n",
    "print(soup.prettify())"
   ]
  },
  {
   "cell_type": "code",
   "execution_count": 11,
   "metadata": {},
   "outputs": [
    {
     "name": "stdout",
     "output_type": "stream",
     "text": [
      "<h1 id=\"title\">네이버</h1>\n"
     ]
    }
   ],
   "source": [
    "print(soup.h1)"
   ]
  },
  {
   "cell_type": "code",
   "execution_count": 26,
   "metadata": {},
   "outputs": [
    {
     "name": "stdout",
     "output_type": "stream",
     "text": [
      "<h1 id=\"title\">네이버</h1>\n"
     ]
    }
   ],
   "source": [
    "tag_h1 = soup.h1\n",
    "print(soup.h1)"
   ]
  },
  {
   "cell_type": "code",
   "execution_count": 27,
   "metadata": {},
   "outputs": [
    {
     "name": "stdout",
     "output_type": "stream",
     "text": [
      "<div class=\"top\">\n",
      "<ul class=\"menu\">\n",
      "<li><a href=\"https://nid.naver.com/nidlogin.login?mode=form&amp;url=https%3A%2F%2Fwww.naver.com\">로그인</a></li></ul>\n",
      "<ul class=\"section\">\n",
      "<li><a href=\"https://section.cafe.naver.com/\">네이버 카페</a></li>\n",
      "<li><a href=\"https://section.blog.naver.com/BlogHome.naver?directoryNo=0¤tPage=1&amp;groupId=0\">네이버 블로그</a></li>\n",
      "</ul>\n",
      "</div>\n"
     ]
    }
   ],
   "source": [
    "tag_div = soup.div\n",
    "print(tag_div)"
   ]
  },
  {
   "cell_type": "code",
   "execution_count": 24,
   "metadata": {},
   "outputs": [
    {
     "name": "stdout",
     "output_type": "stream",
     "text": [
      "<ul class=\"menu\">\n",
      "<li><a href=\"https://nid.naver.com/nidlogin.login?mode=form&amp;url=https%3A%2F%2Fwww.naver.com\">로그인</a></li></ul>\n"
     ]
    }
   ],
   "source": [
    "tag_ul = soup.ul\n",
    "print(tag_ul)"
   ]
  },
  {
   "cell_type": "code",
   "execution_count": 19,
   "metadata": {},
   "outputs": [
    {
     "name": "stdout",
     "output_type": "stream",
     "text": [
      "<li><a href=\"https://nid.naver.com/nidlogin.login?mode=form&amp;url=https%3A%2F%2Fwww.naver.com\">로그인</a></li>\n"
     ]
    }
   ],
   "source": [
    "tag_li = soup.li\n",
    "print(tag_li)"
   ]
  },
  {
   "cell_type": "code",
   "execution_count": 44,
   "metadata": {},
   "outputs": [
    {
     "name": "stdout",
     "output_type": "stream",
     "text": [
      "<a class=\"login\" href=\"https://nid.naver.com/nidlogin.login?mode=form&amp;url=https%3A%2F%2Fwww.naver.com\">로그인</a>\n"
     ]
    }
   ],
   "source": [
    "tag_a = soup.a\n",
    "print(tag_a)"
   ]
  },
  {
   "cell_type": "code",
   "execution_count": 30,
   "metadata": {},
   "outputs": [
    {
     "name": "stdout",
     "output_type": "stream",
     "text": [
      "[<ul class=\"menu\">\n",
      "<li><a href=\"https://nid.naver.com/nidlogin.login?mode=form&amp;url=https%3A%2F%2Fwww.naver.com\">로그인</a></li></ul>, <ul class=\"section\">\n",
      "<li><a href=\"https://section.cafe.naver.com/\">네이버 카페</a></li>\n",
      "<li><a href=\"https://section.blog.naver.com/BlogHome.naver?directoryNo=0¤tPage=1&amp;groupId=0\">네이버 블로그</a></li>\n",
      "</ul>]\n"
     ]
    }
   ],
   "source": [
    "tag_ul_all = soup.find_all(\"ul\")\n",
    "print(tag_ul_all)"
   ]
  },
  {
   "cell_type": "code",
   "execution_count": 34,
   "metadata": {},
   "outputs": [
    {
     "name": "stdout",
     "output_type": "stream",
     "text": [
      "[<li><a href=\"https://nid.naver.com/nidlogin.login?mode=form&amp;url=https%3A%2F%2Fwww.naver.com\">로그인</a></li>, <li><a href=\"https://section.cafe.naver.com/\">네이버 카페</a></li>, <li><a href=\"https://section.blog.naver.com/BlogHome.naver?directoryNo=0¤tPage=1&amp;groupId=0\">네이버 블로그</a></li>]\n"
     ]
    }
   ],
   "source": [
    "tag_li_all = soup.find_all(\"li\")\n",
    "print(tag_li_all)"
   ]
  },
  {
   "cell_type": "code",
   "execution_count": 36,
   "metadata": {},
   "outputs": [
    {
     "name": "stdout",
     "output_type": "stream",
     "text": [
      "[<a href=\"https://nid.naver.com/nidlogin.login?mode=form&amp;url=https%3A%2F%2Fwww.naver.com\">로그인</a>, <a href=\"https://section.cafe.naver.com/\">네이버 카페</a>, <a href=\"https://section.blog.naver.com/BlogHome.naver?directoryNo=0¤tPage=1&amp;groupId=0\">네이버 블로그</a>]\n"
     ]
    }
   ],
   "source": [
    "tag_a_all = soup.find_all(\"a\")\n",
    "print(tag_a_all)"
   ]
  },
  {
   "cell_type": "code",
   "execution_count": 38,
   "metadata": {},
   "outputs": [
    {
     "name": "stdout",
     "output_type": "stream",
     "text": [
      "{'href': 'https://nid.naver.com/nidlogin.login?mode=form&url=https%3A%2F%2Fwww.naver.com'}\n"
     ]
    }
   ],
   "source": [
    "print(tag_a.attrs)"
   ]
  },
  {
   "cell_type": "code",
   "execution_count": 40,
   "metadata": {},
   "outputs": [
    {
     "name": "stdout",
     "output_type": "stream",
     "text": [
      "https://nid.naver.com/nidlogin.login?mode=form&url=https%3A%2F%2Fwww.naver.com\n"
     ]
    }
   ],
   "source": [
    "print(tag_a['href'])"
   ]
  },
  {
   "cell_type": "code",
   "execution_count": 46,
   "metadata": {},
   "outputs": [
    {
     "name": "stdout",
     "output_type": "stream",
     "text": [
      "['login']\n"
     ]
    }
   ],
   "source": [
    "print(tag_a['class'])"
   ]
  },
  {
   "cell_type": "code",
   "execution_count": 52,
   "metadata": {},
   "outputs": [
    {
     "name": "stdout",
     "output_type": "stream",
     "text": [
      "<ul class=\"section\">\n",
      "<li><a href=\"https://section.cafe.naver.com/\">네이버 카페</a></li>\n",
      "<li><a href=\"https://section.blog.naver.com/BlogHome.naver?directoryNo=0¤tPage=1&amp;groupId=0\">네이버 블로그</a></li>\n",
      "</ul>\n"
     ]
    }
   ],
   "source": [
    "tag_ul_2 = soup.find(\"ul\", attrs={'class':'section'})\n",
    "print(tag_ul_2)"
   ]
  },
  {
   "cell_type": "code",
   "execution_count": 54,
   "metadata": {},
   "outputs": [
    {
     "name": "stdout",
     "output_type": "stream",
     "text": [
      "<h1 id=\"title\">네이버</h1>\n"
     ]
    }
   ],
   "source": [
    "title = soup.find(id='title')\n",
    "print(title)"
   ]
  },
  {
   "cell_type": "code",
   "execution_count": 56,
   "metadata": {},
   "outputs": [
    {
     "name": "stdout",
     "output_type": "stream",
     "text": [
      "네이버\n"
     ]
    }
   ],
   "source": [
    "print(title.string)"
   ]
  },
  {
   "cell_type": "code",
   "execution_count": 59,
   "metadata": {},
   "outputs": [
    {
     "name": "stdout",
     "output_type": "stream",
     "text": [
      "[<li><a href=\"https://section.cafe.naver.com/\">네이버 카페</a></li>, <li><a href=\"https://section.blog.naver.com/BlogHome.naver?directoryNo=0¤tPage=1&amp;groupId=0\">네이버 블로그</a></li>]\n"
     ]
    }
   ],
   "source": [
    "li_list = soup.select(\"div>ul.section>li\")\n",
    "print(li_list)"
   ]
  },
  {
   "cell_type": "code",
   "execution_count": 61,
   "metadata": {},
   "outputs": [
    {
     "name": "stdout",
     "output_type": "stream",
     "text": [
      "네이버 카페\n",
      "네이버 블로그\n"
     ]
    }
   ],
   "source": [
    "for li in li_list:\n",
    "    print(li.string)"
   ]
  }
 ],
 "metadata": {
  "kernelspec": {
   "display_name": "Python 3",
   "language": "python",
   "name": "python3"
  },
  "language_info": {
   "codemirror_mode": {
    "name": "ipython",
    "version": 3
   },
   "file_extension": ".py",
   "mimetype": "text/x-python",
   "name": "python",
   "nbconvert_exporter": "python",
   "pygments_lexer": "ipython3",
   "version": "3.8.5"
  }
 },
 "nbformat": 4,
 "nbformat_minor": 4
}
